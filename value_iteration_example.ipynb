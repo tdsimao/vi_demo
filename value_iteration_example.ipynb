{
 "cells": [
  {
   "cell_type": "code",
   "execution_count": 1,
   "id": "4faf2afd",
   "metadata": {},
   "outputs": [],
   "source": [
    "from IPython.display import display\n",
    "import ipywidgets as widgets\n",
    "from mdp import *"
   ]
  },
  {
   "cell_type": "code",
   "execution_count": 2,
   "id": "ea19589f",
   "metadata": {},
   "outputs": [],
   "source": [
    "from matplotlib import pyplot as plt\n",
    "plt.rcParams['figure.figsize'] = (6, 4)\n",
    "# plt.rcParams['figure.dpi'] = 200\n",
    "\n",
    "plt.rcParams['figure.dpi'] = 120"
   ]
  },
  {
   "cell_type": "code",
   "execution_count": 3,
   "id": "83963bd8",
   "metadata": {},
   "outputs": [],
   "source": [
    "\n",
    "iterations = range(25)\n",
    "discounts = [0, 0.9, 0.99, 1]\n",
    "step_penalties = [-0.01,-0.04,-0.4,-4]"
   ]
  },
  {
   "cell_type": "code",
   "execution_count": 4,
   "id": "03e7f04e",
   "metadata": {},
   "outputs": [],
   "source": [
    "def value_iteration_instru():\n",
    "    results = {p: dict() for p in step_penalties}\n",
    "    for pen in step_penalties: \n",
    "        mdp = GridMDP([[pen, pen, pen, +1],[pen, None, pen, -1],[pen, pen, pen, pen]], terminals=[(3, 2), (3, 1)])\n",
    "        for gamma in discounts:\n",
    "            U_over_time = []\n",
    "            R, T = mdp.R, mdp.T\n",
    "            U1 = {s: 0 for s in mdp.states}\n",
    "            for _ in iterations:\n",
    "                U = U1.copy()\n",
    "                for s in mdp.states:\n",
    "                    U1[s] = R(s) + gamma * max([sum([p * U[s1] for (p, s1) in T(s, a)])\n",
    "                                                for a in mdp.actions(s)])\n",
    "                U_over_time.append(U)\n",
    "            results[pen][gamma] = U_over_time\n",
    "    return results\n",
    "vs = value_iteration_instru()"
   ]
  },
  {
   "cell_type": "code",
   "execution_count": 5,
   "id": "61a76ca9",
   "metadata": {
    "scrolled": false
   },
   "outputs": [
    {
     "data": {
      "application/vnd.jupyter.widget-view+json": {
       "model_id": "2a8e730c68464505b67afe974fbc3abf",
       "version_major": 2,
       "version_minor": 0
      },
      "text/plain": [
       "interactive(children=(IntSlider(value=1, description='iteration', max=20, min=1), RadioButtons(description='st…"
      ]
     },
     "metadata": {},
     "output_type": "display_data"
    }
   ],
   "source": [
    "\n",
    "\n",
    "def make_visualize(slider):\n",
    "    \"\"\"Takes an input a sliderand returns callback function\n",
    "    for timer and animation.\"\"\"\n",
    "\n",
    "    def visualize_callback(visualize, time_step):\n",
    "        if visualize is True:\n",
    "            for i in range(slider.min, slider.max + 1):\n",
    "                slider.value = i\n",
    "                time.sleep(float(time_step))\n",
    "\n",
    "    return visualize_callback\n",
    "\n",
    "\n",
    "\n",
    "def make_plot_grid_step_function(columns, rows, U_over_time):\n",
    "    \"\"\"ipywidgets interactive function supports single parameter as input.\n",
    "    This function creates and return such a function by taking as input\n",
    "    other parameters.\"\"\"\n",
    "\n",
    "    def plot_grid_step(iteration, discount, penalty):\n",
    "        data = U_over_time[penalty][discount][iteration]\n",
    "        data = defaultdict(lambda: 0, data)\n",
    "        grid = []\n",
    "        for row in range(rows):\n",
    "            current_row = []\n",
    "            for column in range(columns):\n",
    "                current_row.append(data[(column, row)])\n",
    "            grid.append(current_row)\n",
    "        grid.reverse()  # output like book\n",
    "        fig = plt.imshow(grid, cmap='summer',#plt.cm.bwr, #vmin=-20, vmax=1,\n",
    "                         interpolation='nearest')\n",
    "\n",
    "        plt.axis('off')\n",
    "        fig.axes.get_xaxis().set_visible(False)\n",
    "        fig.axes.get_yaxis().set_visible(False)\n",
    "\n",
    "        for col in range(len(grid)):\n",
    "            for row in range(len(grid[0])):\n",
    "                magic = grid[col][row]\n",
    "                fig.axes.text(row, col, \"{0:.2f}\".format(magic), va='center', ha='center', fontsize=20)\n",
    "\n",
    "        \n",
    "        fig.figure.set_size_inches(8, 6)\n",
    "        plt.show()\n",
    "        plt.rcParams['figure.dpi'] = 120\n",
    "\n",
    "    return plot_grid_step\n",
    "\n",
    "plot_grid_step = make_plot_grid_step_function(4, 3, vs)\n",
    "\n",
    "\n",
    "iteration_slider = widgets.IntSlider(min=1, max=20, step=1, value=0)\n",
    "discount_chooser = widgets.RadioButtons(\n",
    "    options=discounts,\n",
    "    value=discounts[-2],\n",
    "    description='step penalty',\n",
    "    disabled=False\n",
    ")\n",
    "\n",
    "# widgets.FloatSlider(min=0, max=1, step=0.1, value=0.9)\n",
    "penalty_chooser = widgets.RadioButtons(\n",
    "    options=step_penalties,\n",
    "    value=step_penalties[0],\n",
    "    description='step penalty',\n",
    "    disabled=False\n",
    ")\n",
    "\n",
    "\n",
    "w=widgets.interactive(plot_grid_step,iteration=iteration_slider, discount=discount_chooser, penalty=penalty_chooser)\n",
    "\n",
    "\n",
    "\n",
    "\n",
    "display(w)"
   ]
  },
  {
   "cell_type": "code",
   "execution_count": null,
   "id": "9309bc61",
   "metadata": {},
   "outputs": [],
   "source": []
  },
  {
   "cell_type": "code",
   "execution_count": null,
   "id": "151de722",
   "metadata": {},
   "outputs": [],
   "source": []
  }
 ],
 "metadata": {
  "kernelspec": {
   "display_name": "Python 3 (ipykernel)",
   "language": "python",
   "name": "python3"
  },
  "language_info": {
   "codemirror_mode": {
    "name": "ipython",
    "version": 3
   },
   "file_extension": ".py",
   "mimetype": "text/x-python",
   "name": "python",
   "nbconvert_exporter": "python",
   "pygments_lexer": "ipython3",
   "version": "3.9.7"
  }
 },
 "nbformat": 4,
 "nbformat_minor": 5
}
